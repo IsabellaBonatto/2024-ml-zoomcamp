{
 "cells": [
  {
   "cell_type": "code",
   "execution_count": 1,
   "id": "af3e185f-cc0f-459b-a40a-9e3c7776fa1a",
   "metadata": {},
   "outputs": [],
   "source": [
    "import numpy as np"
   ]
  },
  {
   "cell_type": "markdown",
   "id": "8418a603-5365-4b95-ae01-a9742a840cb7",
   "metadata": {},
   "source": [
    "# Creating arrays"
   ]
  },
  {
   "cell_type": "code",
   "execution_count": 5,
   "id": "2dc073f4-fa68-4011-b9c1-0a502976cd23",
   "metadata": {},
   "outputs": [
    {
     "data": {
      "text/plain": [
       "array([0., 0., 0., 0., 0.])"
      ]
     },
     "execution_count": 5,
     "metadata": {},
     "output_type": "execute_result"
    }
   ],
   "source": [
    "np.zeros(5)"
   ]
  },
  {
   "cell_type": "code",
   "execution_count": 7,
   "id": "bd11fef8-55f2-4a60-802d-c6621629cb77",
   "metadata": {},
   "outputs": [
    {
     "data": {
      "text/plain": [
       "array([1., 1., 1., 1., 1., 1., 1., 1., 1., 1.])"
      ]
     },
     "execution_count": 7,
     "metadata": {},
     "output_type": "execute_result"
    }
   ],
   "source": [
    "np.ones(10)"
   ]
  },
  {
   "cell_type": "code",
   "execution_count": 8,
   "id": "832a871a-314a-42e6-bc4f-c31791930e2a",
   "metadata": {},
   "outputs": [
    {
     "data": {
      "text/plain": [
       "array([2, 2, 2, 2, 2, 2, 2, 2, 2, 2])"
      ]
     },
     "execution_count": 8,
     "metadata": {},
     "output_type": "execute_result"
    }
   ],
   "source": [
    "np.full(10, 2)"
   ]
  },
  {
   "cell_type": "code",
   "execution_count": 11,
   "id": "d7c7c296-e491-4cb5-a410-e16f6deca29b",
   "metadata": {},
   "outputs": [],
   "source": [
    "python_list = [1, 2, 5, 7]\n",
    "a = np.array(python_list)"
   ]
  },
  {
   "cell_type": "code",
   "execution_count": 12,
   "id": "4e16a732-debc-495d-b32f-e54a6c9fb9c3",
   "metadata": {},
   "outputs": [
    {
     "data": {
      "text/plain": [
       "np.int64(1)"
      ]
     },
     "execution_count": 12,
     "metadata": {},
     "output_type": "execute_result"
    }
   ],
   "source": [
    "a[0]"
   ]
  },
  {
   "cell_type": "code",
   "execution_count": 13,
   "id": "38eafdcd-dcff-4305-8040-56e4bbf22d32",
   "metadata": {},
   "outputs": [
    {
     "data": {
      "text/plain": [
       "np.int64(5)"
      ]
     },
     "execution_count": 13,
     "metadata": {},
     "output_type": "execute_result"
    }
   ],
   "source": [
    "a[2]"
   ]
  },
  {
   "cell_type": "code",
   "execution_count": 14,
   "id": "250df5f3-0773-46b6-8df6-7a5cb760ae98",
   "metadata": {},
   "outputs": [
    {
     "data": {
      "text/plain": [
       "array([1, 2, 5, 7])"
      ]
     },
     "execution_count": 14,
     "metadata": {},
     "output_type": "execute_result"
    }
   ],
   "source": [
    "a"
   ]
  },
  {
   "cell_type": "code",
   "execution_count": null,
   "id": "f2d99792-84a7-40ab-b99a-3d3af43e4075",
   "metadata": {},
   "outputs": [],
   "source": [
    "# assigment to change the value"
   ]
  },
  {
   "cell_type": "code",
   "execution_count": 16,
   "id": "067ca302-6bcc-4c0d-8dc8-c0064c43f7e8",
   "metadata": {},
   "outputs": [],
   "source": [
    "a[2] = 10"
   ]
  },
  {
   "cell_type": "code",
   "execution_count": 17,
   "id": "1c9f46a0-03ef-4e3c-b4e4-9cb9425c2686",
   "metadata": {},
   "outputs": [
    {
     "data": {
      "text/plain": [
       "array([ 1,  2, 10,  7])"
      ]
     },
     "execution_count": 17,
     "metadata": {},
     "output_type": "execute_result"
    }
   ],
   "source": [
    "a"
   ]
  },
  {
   "cell_type": "code",
   "execution_count": 20,
   "id": "112a96ff-a3c2-4ab6-8d59-0e954f94f984",
   "metadata": {},
   "outputs": [
    {
     "data": {
      "text/plain": [
       "array([0, 1, 2, 3, 4, 5, 6, 7, 8, 9])"
      ]
     },
     "execution_count": 20,
     "metadata": {},
     "output_type": "execute_result"
    }
   ],
   "source": [
    "np.arange(10) # exclusive 10"
   ]
  },
  {
   "cell_type": "code",
   "execution_count": 21,
   "id": "97aeb50d-a833-471d-926d-4263426f36e6",
   "metadata": {},
   "outputs": [
    {
     "data": {
      "text/plain": [
       "array([3, 4, 5, 6, 7, 8, 9])"
      ]
     },
     "execution_count": 21,
     "metadata": {},
     "output_type": "execute_result"
    }
   ],
   "source": [
    "np.arange(3, 10) # exclusive 10"
   ]
  },
  {
   "cell_type": "code",
   "execution_count": 23,
   "id": "adab05fd-b7e8-4ba3-967e-371716cfef6a",
   "metadata": {},
   "outputs": [
    {
     "data": {
      "text/plain": [
       "array([0. , 0.1, 0.2, 0.3, 0.4, 0.5, 0.6, 0.7, 0.8, 0.9, 1. ])"
      ]
     },
     "execution_count": 23,
     "metadata": {},
     "output_type": "execute_result"
    }
   ],
   "source": [
    "np.linspace(0, 1, 11)"
   ]
  },
  {
   "cell_type": "markdown",
   "id": "0bc29499-c0e8-4833-910f-bb61b87c9b0b",
   "metadata": {},
   "source": [
    "# Multi-dimensional arrays"
   ]
  },
  {
   "cell_type": "code",
   "execution_count": 27,
   "id": "072f1527-6085-4fc6-b9b7-3ff3e845d9f0",
   "metadata": {},
   "outputs": [
    {
     "data": {
      "text/plain": [
       "array([[0., 0.],\n",
       "       [0., 0.],\n",
       "       [0., 0.],\n",
       "       [0., 0.],\n",
       "       [0., 0.]])"
      ]
     },
     "execution_count": 27,
     "metadata": {},
     "output_type": "execute_result"
    }
   ],
   "source": [
    "np.zeros((5, 2))"
   ]
  },
  {
   "cell_type": "code",
   "execution_count": 28,
   "id": "97df29f3-5faf-4c64-8a28-751db75afdcd",
   "metadata": {},
   "outputs": [
    {
     "data": {
      "text/plain": [
       "array([[0., 0.],\n",
       "       [0., 0.],\n",
       "       [0., 0.],\n",
       "       [0., 0.],\n",
       "       [0., 0.]])"
      ]
     },
     "execution_count": 28,
     "metadata": {},
     "output_type": "execute_result"
    }
   ],
   "source": [
    "np.zeros(((5, 2)))"
   ]
  },
  {
   "cell_type": "code",
   "execution_count": 30,
   "id": "046e4b7f-eb2c-435f-b2dc-5231c8053304",
   "metadata": {},
   "outputs": [],
   "source": [
    "n = np.array([\n",
    "    [1, 2, 5], # 0 row\n",
    "    [4, 6, 7] # 1 row\n",
    "])"
   ]
  },
  {
   "cell_type": "code",
   "execution_count": 33,
   "id": "880f63ee-0b86-49ae-a154-3869a956107f",
   "metadata": {},
   "outputs": [
    {
     "data": {
      "text/plain": [
       "np.int64(2)"
      ]
     },
     "execution_count": 33,
     "metadata": {},
     "output_type": "execute_result"
    }
   ],
   "source": [
    "n[0, 1] # first row, after column"
   ]
  },
  {
   "cell_type": "code",
   "execution_count": 34,
   "id": "81b6cc57-c667-4662-a647-9a0f61003587",
   "metadata": {},
   "outputs": [],
   "source": [
    "n[0, 1] = 20"
   ]
  },
  {
   "cell_type": "code",
   "execution_count": 35,
   "id": "44449266-c58f-47fa-bede-f30a66d8c1a9",
   "metadata": {},
   "outputs": [
    {
     "data": {
      "text/plain": [
       "array([[ 1, 20,  5],\n",
       "       [ 4,  6,  7]])"
      ]
     },
     "execution_count": 35,
     "metadata": {},
     "output_type": "execute_result"
    }
   ],
   "source": [
    "n"
   ]
  },
  {
   "cell_type": "code",
   "execution_count": 37,
   "id": "d147f771-a872-4555-8745-e4795286b176",
   "metadata": {},
   "outputs": [
    {
     "data": {
      "text/plain": [
       "array([1, 4])"
      ]
     },
     "execution_count": 37,
     "metadata": {},
     "output_type": "execute_result"
    }
   ],
   "source": [
    "n[:, 0]"
   ]
  },
  {
   "cell_type": "markdown",
   "id": "e220a82c-cf0c-489a-9d35-99b38dc2b32b",
   "metadata": {},
   "source": [
    "# Randomly generated arrays"
   ]
  },
  {
   "cell_type": "code",
   "execution_count": 41,
   "id": "ec8ac61e-0200-4d2b-a5b4-b7e3b1c64679",
   "metadata": {},
   "outputs": [
    {
     "data": {
      "text/plain": [
       "array([[0.13719897, 0.3978519 ],\n",
       "       [0.28637295, 0.89141735],\n",
       "       [0.03641233, 0.2207196 ],\n",
       "       [0.04337913, 0.64639286],\n",
       "       [0.66396132, 0.57333763]])"
      ]
     },
     "execution_count": 41,
     "metadata": {},
     "output_type": "execute_result"
    }
   ],
   "source": [
    "np.random.rand(5, 2)"
   ]
  },
  {
   "cell_type": "code",
   "execution_count": 44,
   "id": "454bf0eb-5995-4955-8999-9385bdd5bf17",
   "metadata": {},
   "outputs": [
    {
     "data": {
      "text/plain": [
       "array([[0.77132064, 0.02075195],\n",
       "       [0.63364823, 0.74880388],\n",
       "       [0.49850701, 0.22479665],\n",
       "       [0.19806286, 0.76053071],\n",
       "       [0.16911084, 0.08833981]])"
      ]
     },
     "execution_count": 44,
     "metadata": {},
     "output_type": "execute_result"
    }
   ],
   "source": [
    "np.random.seed(10)\n",
    "np.random.rand(5, 2) # random numbers will always be the same"
   ]
  },
  {
   "cell_type": "code",
   "execution_count": 45,
   "id": "b651da7a-b0b5-47ea-9b57-27101cffcfbf",
   "metadata": {},
   "outputs": [
    {
     "data": {
      "text/plain": [
       "array([[ 1.3315865 ,  0.71527897],\n",
       "       [-1.54540029, -0.00838385],\n",
       "       [ 0.62133597, -0.72008556],\n",
       "       [ 0.26551159,  0.10854853],\n",
       "       [ 0.00429143, -0.17460021]])"
      ]
     },
     "execution_count": 45,
     "metadata": {},
     "output_type": "execute_result"
    }
   ],
   "source": [
    "np.random.seed(10)\n",
    "np.random.randn(5, 2) # normal distribution"
   ]
  },
  {
   "cell_type": "code",
   "execution_count": 46,
   "id": "8aa93e76-01c2-4cf4-adf9-fa6abd898ce3",
   "metadata": {},
   "outputs": [
    {
     "data": {
      "text/plain": [
       "array([[ 133.15865041,   71.52789744],\n",
       "       [-154.54002921,   -0.83838499],\n",
       "       [  62.13359739,  -72.00855607],\n",
       "       [  26.55115857,   10.85485257],\n",
       "       [   0.42914309,  -17.46002106]])"
      ]
     },
     "execution_count": 46,
     "metadata": {},
     "output_type": "execute_result"
    }
   ],
   "source": [
    "np.random.seed(10)\n",
    "100 * np.random.randn(5, 2) # normal distribution"
   ]
  },
  {
   "cell_type": "code",
   "execution_count": 47,
   "id": "83fb8153-0eb8-46e8-ac23-01636cb49f74",
   "metadata": {},
   "outputs": [
    {
     "data": {
      "text/plain": [
       "array([[ 900, 1500],\n",
       "       [6400, 2800],\n",
       "       [8900, 9300],\n",
       "       [2900,  800],\n",
       "       [7300,    0]])"
      ]
     },
     "execution_count": 47,
     "metadata": {},
     "output_type": "execute_result"
    }
   ],
   "source": [
    "np.random.seed(10)\n",
    "100 * np.random.randint(low=0, high=100, size=(5, 2)) # normal distribution"
   ]
  },
  {
   "cell_type": "markdown",
   "id": "8e87dc95-47fc-40fa-a4cf-c20fa2cca440",
   "metadata": {},
   "source": [
    "# Element-wise operations"
   ]
  },
  {
   "cell_type": "code",
   "execution_count": 48,
   "id": "0eb23a34-de39-4829-bcae-2a26bbde8ace",
   "metadata": {},
   "outputs": [],
   "source": [
    "a = np.arange(5)"
   ]
  },
  {
   "cell_type": "code",
   "execution_count": 50,
   "id": "2ea0becd-c3bb-4448-9819-77cf937b9e31",
   "metadata": {},
   "outputs": [
    {
     "data": {
      "text/plain": [
       "array([1, 2, 3, 4, 5])"
      ]
     },
     "execution_count": 50,
     "metadata": {},
     "output_type": "execute_result"
    }
   ],
   "source": [
    "a + 1 # python is not possible, needs to interate"
   ]
  },
  {
   "cell_type": "code",
   "execution_count": 51,
   "id": "9e043552-3e1e-4b4c-8251-f9d666aafe13",
   "metadata": {},
   "outputs": [
    {
     "data": {
      "text/plain": [
       "array([0, 2, 4, 6, 8])"
      ]
     },
     "execution_count": 51,
     "metadata": {},
     "output_type": "execute_result"
    }
   ],
   "source": [
    "a * 2"
   ]
  },
  {
   "cell_type": "code",
   "execution_count": 54,
   "id": "6da2d885-765f-4e75-adec-af992be15052",
   "metadata": {},
   "outputs": [],
   "source": [
    "b = ( 10 + (a *2) **2 )/100"
   ]
  },
  {
   "cell_type": "code",
   "execution_count": 55,
   "id": "e9294943-9d95-4f8b-98a7-9a9b5ab04b89",
   "metadata": {},
   "outputs": [
    {
     "data": {
      "text/plain": [
       "array([0.1 , 1.14, 2.26, 3.46, 4.74])"
      ]
     },
     "execution_count": 55,
     "metadata": {},
     "output_type": "execute_result"
    }
   ],
   "source": [
    "a + b"
   ]
  },
  {
   "cell_type": "markdown",
   "id": "b7402907-a7b7-42f9-9f29-1cb27dcd8c37",
   "metadata": {},
   "source": [
    "# Comparison operations"
   ]
  },
  {
   "cell_type": "code",
   "execution_count": 58,
   "id": "3a6fa581-6ff6-4845-99e4-e91bb817df08",
   "metadata": {},
   "outputs": [
    {
     "data": {
      "text/plain": [
       "array([False, False,  True,  True,  True])"
      ]
     },
     "execution_count": 58,
     "metadata": {},
     "output_type": "execute_result"
    }
   ],
   "source": [
    "a >= 2"
   ]
  },
  {
   "cell_type": "code",
   "execution_count": 61,
   "id": "9dbe3c41-2192-44a0-9556-698424b7974b",
   "metadata": {},
   "outputs": [
    {
     "data": {
      "text/plain": [
       "array([False,  True,  True,  True,  True])"
      ]
     },
     "execution_count": 61,
     "metadata": {},
     "output_type": "execute_result"
    }
   ],
   "source": [
    "a > b"
   ]
  },
  {
   "cell_type": "code",
   "execution_count": 62,
   "id": "b0bd1666-f9df-4b91-bc6c-087d08c90778",
   "metadata": {},
   "outputs": [
    {
     "data": {
      "text/plain": [
       "array([1, 2, 3, 4])"
      ]
     },
     "execution_count": 62,
     "metadata": {},
     "output_type": "execute_result"
    }
   ],
   "source": [
    "a[a > b]"
   ]
  },
  {
   "cell_type": "code",
   "execution_count": 63,
   "id": "b86aef1c-34ea-456d-a516-2abe20e84de8",
   "metadata": {},
   "outputs": [
    {
     "data": {
      "text/plain": [
       "array([3, 4])"
      ]
     },
     "execution_count": 63,
     "metadata": {},
     "output_type": "execute_result"
    }
   ],
   "source": [
    "a[a > 2]"
   ]
  },
  {
   "cell_type": "markdown",
   "id": "fd39e0bc-bf0e-49c1-816b-c3a69e0adca5",
   "metadata": {},
   "source": [
    "# Summarizing operations"
   ]
  },
  {
   "cell_type": "code",
   "execution_count": 64,
   "id": "34b1f3a2-25b4-45be-b014-8bf4c8f97964",
   "metadata": {},
   "outputs": [
    {
     "data": {
      "text/plain": [
       "np.int64(0)"
      ]
     },
     "execution_count": 64,
     "metadata": {},
     "output_type": "execute_result"
    }
   ],
   "source": [
    "a.min()"
   ]
  },
  {
   "cell_type": "code",
   "execution_count": 65,
   "id": "77798311-f3e7-45d8-a20f-5698874e41e6",
   "metadata": {},
   "outputs": [
    {
     "data": {
      "text/plain": [
       "np.int64(4)"
      ]
     },
     "execution_count": 65,
     "metadata": {},
     "output_type": "execute_result"
    }
   ],
   "source": [
    "a.max()"
   ]
  },
  {
   "cell_type": "code",
   "execution_count": 66,
   "id": "e7e61ee3-0bbf-4e5f-94c8-773c72a07db5",
   "metadata": {},
   "outputs": [
    {
     "data": {
      "text/plain": [
       "np.int64(10)"
      ]
     },
     "execution_count": 66,
     "metadata": {},
     "output_type": "execute_result"
    }
   ],
   "source": [
    "a.sum()"
   ]
  },
  {
   "cell_type": "code",
   "execution_count": 67,
   "id": "a6af1e13-8f70-4259-9bee-1867f34f64c7",
   "metadata": {},
   "outputs": [
    {
     "data": {
      "text/plain": [
       "np.float64(2.0)"
      ]
     },
     "execution_count": 67,
     "metadata": {},
     "output_type": "execute_result"
    }
   ],
   "source": [
    "a.mean()"
   ]
  },
  {
   "cell_type": "code",
   "execution_count": 68,
   "id": "081fc344-874b-43b1-8c4e-84c73c46aeda",
   "metadata": {},
   "outputs": [
    {
     "data": {
      "text/plain": [
       "np.float64(1.4142135623730951)"
      ]
     },
     "execution_count": 68,
     "metadata": {},
     "output_type": "execute_result"
    }
   ],
   "source": [
    "a.std()"
   ]
  },
  {
   "cell_type": "code",
   "execution_count": 69,
   "id": "ae171ab1-ecc1-4256-b3bd-cd05fb15d9f5",
   "metadata": {},
   "outputs": [
    {
     "data": {
      "text/plain": [
       "array([[ 1, 20,  5],\n",
       "       [ 4,  6,  7]])"
      ]
     },
     "execution_count": 69,
     "metadata": {},
     "output_type": "execute_result"
    }
   ],
   "source": [
    "n"
   ]
  },
  {
   "cell_type": "code",
   "execution_count": 70,
   "id": "f00f9c58-11c4-4e60-9949-bc1490625033",
   "metadata": {},
   "outputs": [
    {
     "data": {
      "text/plain": [
       "np.int64(43)"
      ]
     },
     "execution_count": 70,
     "metadata": {},
     "output_type": "execute_result"
    }
   ],
   "source": [
    "n.sum()"
   ]
  },
  {
   "cell_type": "code",
   "execution_count": 71,
   "id": "2e7cdcaf-207e-4bbc-ad76-320e11c6406e",
   "metadata": {},
   "outputs": [
    {
     "data": {
      "text/plain": [
       "np.float64(6.039223643997812)"
      ]
     },
     "execution_count": 71,
     "metadata": {},
     "output_type": "execute_result"
    }
   ],
   "source": [
    "n.std()"
   ]
  },
  {
   "cell_type": "code",
   "execution_count": 74,
   "id": "faf8fe9f-187d-4bdf-b07e-a92d11c67ee2",
   "metadata": {},
   "outputs": [],
   "source": [
    "u = np.array([2, 4, 5, 6])\n",
    "v = np.array([1, 0, 0, 2])"
   ]
  },
  {
   "cell_type": "code",
   "execution_count": 75,
   "id": "4f1f3e17-1ccd-4d63-a721-c40c380d2e37",
   "metadata": {},
   "outputs": [
    {
     "data": {
      "text/plain": [
       "array([ 2,  0,  0, 12])"
      ]
     },
     "execution_count": 75,
     "metadata": {},
     "output_type": "execute_result"
    }
   ],
   "source": [
    "u * v "
   ]
  },
  {
   "cell_type": "code",
   "execution_count": 77,
   "id": "4dd90154-6fdd-4edd-9e6b-cd3e3de7bedf",
   "metadata": {},
   "outputs": [
    {
     "data": {
      "text/plain": [
       "np.int64(14)"
      ]
     },
     "execution_count": 77,
     "metadata": {},
     "output_type": "execute_result"
    }
   ],
   "source": [
    "# in algebra, the result would be:\n",
    "\n",
    "(u * v).sum()"
   ]
  },
  {
   "cell_type": "code",
   "execution_count": null,
   "id": "211fc683-8645-4726-a1fb-c92e92dd4b53",
   "metadata": {},
   "outputs": [],
   "source": [
    "d"
   ]
  },
  {
   "cell_type": "code",
   "execution_count": 83,
   "id": "1c9ba69b-13e8-4757-a6e0-fd7802ea3a79",
   "metadata": {},
   "outputs": [],
   "source": [
    "def vector_vector_multiplication(u, v):\n",
    "\n",
    "    assert u.shape[0] == v.shape[0]\n",
    "\n",
    "    result = 0\n",
    "    for i in range(u.shape[0]):\n",
    "        result += u[i] * v[i]\n",
    "\n",
    "    return result"
   ]
  },
  {
   "cell_type": "code",
   "execution_count": null,
   "id": "88ab7e8d-ff36-45d9-889d-a3f49f49574f",
   "metadata": {},
   "outputs": [],
   "source": []
  },
  {
   "cell_type": "code",
   "execution_count": 84,
   "id": "95831fd3-8048-43a6-810b-296bfdca70c7",
   "metadata": {},
   "outputs": [],
   "source": [
    "a = vector_vector_multiplication(u, v)"
   ]
  },
  {
   "cell_type": "code",
   "execution_count": 85,
   "id": "3bd3503e-9556-4d23-b2e8-57bd63a61199",
   "metadata": {},
   "outputs": [
    {
     "data": {
      "text/plain": [
       "np.int64(14)"
      ]
     },
     "execution_count": 85,
     "metadata": {},
     "output_type": "execute_result"
    }
   ],
   "source": [
    "a"
   ]
  },
  {
   "cell_type": "code",
   "execution_count": 86,
   "id": "0e9e6dcd-bedb-46b9-a689-7d42f22f36d7",
   "metadata": {},
   "outputs": [
    {
     "data": {
      "text/plain": [
       "np.int64(14)"
      ]
     },
     "execution_count": 86,
     "metadata": {},
     "output_type": "execute_result"
    }
   ],
   "source": [
    "u.dot(v)"
   ]
  },
  {
   "cell_type": "code",
   "execution_count": 87,
   "id": "c8e41738-2bab-41c7-9c10-9e6d849a41b7",
   "metadata": {},
   "outputs": [],
   "source": [
    "def matrix_vector_multiplication(U, v):\n",
    "\n",
    "    assert U.shape[1] == v.shape[0]\n",
    "\n",
    "    num_rows = U.shape[0]\n",
    "    \n",
    "    result = np.zeros(num_rows)\n",
    "    for i in range(num_rows):\n",
    "        result[i] = vector_vector_multiplication(U[i], v)\n",
    "\n",
    "    return result[i]"
   ]
  },
  {
   "cell_type": "code",
   "execution_count": 99,
   "id": "512c1c54-446c-4619-b37c-d8ee98842e20",
   "metadata": {},
   "outputs": [],
   "source": [
    "U = np.random.rand(4, 2)"
   ]
  },
  {
   "cell_type": "code",
   "execution_count": 100,
   "id": "3f6cf290-912b-463a-bf47-c2029d95b591",
   "metadata": {},
   "outputs": [
    {
     "data": {
      "text/plain": [
       "array([[0.06556327, 0.05644419],\n",
       "       [0.76545582, 0.01178803],\n",
       "       [0.61194334, 0.33188226],\n",
       "       [0.55964837, 0.33549965]])"
      ]
     },
     "execution_count": 100,
     "metadata": {},
     "output_type": "execute_result"
    }
   ],
   "source": [
    "U"
   ]
  },
  {
   "cell_type": "code",
   "execution_count": null,
   "id": "d030d6bc-74bb-45ea-b0cd-2ea3a567512a",
   "metadata": {},
   "outputs": [],
   "source": []
  },
  {
   "cell_type": "code",
   "execution_count": null,
   "id": "50e429cc-a136-4d11-bfc1-18f6592ba505",
   "metadata": {},
   "outputs": [],
   "source": []
  },
  {
   "cell_type": "code",
   "execution_count": null,
   "id": "f0e8e54a-a748-4831-b9ef-bc921b985fd4",
   "metadata": {},
   "outputs": [],
   "source": []
  },
  {
   "cell_type": "code",
   "execution_count": null,
   "id": "b18c91f2-19a4-4ab1-a58d-dc0815c8dc52",
   "metadata": {},
   "outputs": [],
   "source": []
  },
  {
   "cell_type": "code",
   "execution_count": 101,
   "id": "f01a380f-0f91-4562-8e5a-0fb27e59f647",
   "metadata": {},
   "outputs": [
    {
     "data": {
      "text/plain": [
       "array([1, 0, 0, 2])"
      ]
     },
     "execution_count": 101,
     "metadata": {},
     "output_type": "execute_result"
    }
   ],
   "source": [
    "v"
   ]
  },
  {
   "cell_type": "code",
   "execution_count": null,
   "id": "f53f63ea-daf6-44b8-bfa1-a192a643fc87",
   "metadata": {},
   "outputs": [],
   "source": []
  },
  {
   "cell_type": "code",
   "execution_count": null,
   "id": "927d0961-2876-4beb-ad6e-037a104e71e2",
   "metadata": {},
   "outputs": [],
   "source": []
  },
  {
   "cell_type": "code",
   "execution_count": 103,
   "id": "67cecf98-268d-404e-b563-55d34ea93aaf",
   "metadata": {},
   "outputs": [
    {
     "ename": "AssertionError",
     "evalue": "",
     "output_type": "error",
     "traceback": [
      "\u001b[0;31m---------------------------------------------------------------------------\u001b[0m",
      "\u001b[0;31mAssertionError\u001b[0m                            Traceback (most recent call last)",
      "Cell \u001b[0;32mIn[103], line 1\u001b[0m\n\u001b[0;32m----> 1\u001b[0m \u001b[43mmatrix_vector_multiplication\u001b[49m\u001b[43m(\u001b[49m\u001b[43mU\u001b[49m\u001b[43m,\u001b[49m\u001b[43m \u001b[49m\u001b[43mv\u001b[49m\u001b[43m)\u001b[49m\n",
      "Cell \u001b[0;32mIn[87], line 3\u001b[0m, in \u001b[0;36mmatrix_vector_multiplication\u001b[0;34m(U, v)\u001b[0m\n\u001b[1;32m      1\u001b[0m \u001b[38;5;28;01mdef\u001b[39;00m \u001b[38;5;21mmatrix_vector_multiplication\u001b[39m(U, v):\n\u001b[0;32m----> 3\u001b[0m     \u001b[38;5;28;01massert\u001b[39;00m U\u001b[38;5;241m.\u001b[39mshape[\u001b[38;5;241m1\u001b[39m] \u001b[38;5;241m==\u001b[39m v\u001b[38;5;241m.\u001b[39mshape[\u001b[38;5;241m0\u001b[39m]\n\u001b[1;32m      5\u001b[0m     num_rows \u001b[38;5;241m=\u001b[39m U\u001b[38;5;241m.\u001b[39mshape[\u001b[38;5;241m0\u001b[39m]\n\u001b[1;32m      7\u001b[0m     result \u001b[38;5;241m=\u001b[39m np\u001b[38;5;241m.\u001b[39mzeros(num_rows)\n",
      "\u001b[0;31mAssertionError\u001b[0m: "
     ]
    }
   ],
   "source": [
    "matrix_vector_multiplication(U, v)"
   ]
  },
  {
   "cell_type": "code",
   "execution_count": 107,
   "id": "86eea9a1-a906-4d21-805e-c3c0fc4aba1d",
   "metadata": {},
   "outputs": [],
   "source": [
    "I = np.eye(4)"
   ]
  },
  {
   "cell_type": "code",
   "execution_count": 108,
   "id": "a7fcb1cc-b5a4-4442-b8eb-c37da7996604",
   "metadata": {},
   "outputs": [
    {
     "ename": "ValueError",
     "evalue": "shapes (4,2) and (4,4) not aligned: 2 (dim 1) != 4 (dim 0)",
     "output_type": "error",
     "traceback": [
      "\u001b[0;31m---------------------------------------------------------------------------\u001b[0m",
      "\u001b[0;31mValueError\u001b[0m                                Traceback (most recent call last)",
      "Cell \u001b[0;32mIn[108], line 1\u001b[0m\n\u001b[0;32m----> 1\u001b[0m \u001b[43mU\u001b[49m\u001b[38;5;241;43m.\u001b[39;49m\u001b[43mdot\u001b[49m\u001b[43m(\u001b[49m\u001b[43mI\u001b[49m\u001b[43m)\u001b[49m\n",
      "\u001b[0;31mValueError\u001b[0m: shapes (4,2) and (4,4) not aligned: 2 (dim 1) != 4 (dim 0)"
     ]
    }
   ],
   "source": [
    "U.dot(I)"
   ]
  }
 ],
 "metadata": {
  "kernelspec": {
   "display_name": "Python 3 (ipykernel)",
   "language": "python",
   "name": "python3"
  },
  "language_info": {
   "codemirror_mode": {
    "name": "ipython",
    "version": 3
   },
   "file_extension": ".py",
   "mimetype": "text/x-python",
   "name": "python",
   "nbconvert_exporter": "python",
   "pygments_lexer": "ipython3",
   "version": "3.13.0"
  }
 },
 "nbformat": 4,
 "nbformat_minor": 5
}
